{
 "cells": [
  {
   "cell_type": "code",
   "execution_count": null,
   "id": "3dab0f9d-2fdc-402c-a8c7-1de15072118e",
   "metadata": {},
   "outputs": [
    {
     "data": {
      "text/plain": [
       "'0.15.0'"
      ]
     },
     "execution_count": null,
     "metadata": {},
     "output_type": "execute_result"
    }
   ],
   "source": [
    "import xarray # as per `apt-cache search xarray -f` : version 0.15.0 (system-level); all versions selected for Python packages below selected that way\n",
    "xarray.__version__\n",
    "# https://docs.xarray.dev/en/v0.15.1/generated/xarray.open_zarr.html; no docs for 0.15.0 officially"
   ]
  },
  {
   "cell_type": "code",
   "execution_count": null,
   "id": "e831fb6f-2895-434c-a8e5-79459777daf0",
   "metadata": {},
   "outputs": [
    {
     "data": {
      "text/plain": [
       "'2.4.0'"
      ]
     },
     "execution_count": null,
     "metadata": {},
     "output_type": "execute_result"
    }
   ],
   "source": [
    "import zarr # version 2.4.0\n",
    "zarr.__version__\n",
    "# https://zarr.readthedocs.io/en/v2.4.0/"
   ]
  },
  {
   "cell_type": "code",
   "execution_count": null,
   "id": "acb5f80c-2262-49f7-ab8e-7564916cf76f",
   "metadata": {},
   "outputs": [
    {
     "data": {
      "text/plain": [
       "'0.6.1'"
      ]
     },
     "execution_count": null,
     "metadata": {},
     "output_type": "execute_result"
    }
   ],
   "source": [
    "import fsspec # version 0.6.1\n",
    "fsspec.__version__"
   ]
  },
  {
   "cell_type": "code",
   "execution_count": null,
   "id": "07a5efb2-c92b-4df3-a8ab-0560b1cb65ec",
   "metadata": {},
   "outputs": [],
   "source": [
    "# !nbdev_help"
   ]
  },
  {
   "cell_type": "code",
   "execution_count": null,
   "id": "1613ef3c-c9a6-414a-ace2-723c48880538",
   "metadata": {},
   "outputs": [
    {
     "data": {
      "text/plain": [
       "'2.8.1'"
      ]
     },
     "execution_count": null,
     "metadata": {},
     "output_type": "execute_result"
    }
   ],
   "source": [
    "import dask # version 2.8.1\n",
    "dask.__version__"
   ]
  },
  {
   "cell_type": "code",
   "execution_count": null,
   "id": "54b8982e-47f4-4d70-8736-52f0550f0bd2",
   "metadata": {},
   "outputs": [],
   "source": [
    "%load_ext heat\n",
    "%load_ext line_profiler\n",
    "%load_ext snakeviz"
   ]
  },
  {
   "cell_type": "code",
   "execution_count": null,
   "id": "7736ae15-dcee-4c93-8a8f-dd478898ac5c",
   "metadata": {},
   "outputs": [],
   "source": [
    "# import getpass"
   ]
  },
  {
   "cell_type": "code",
   "execution_count": null,
   "id": "64a8bd9b-fd40-4f79-9b1c-f4a6880603c7",
   "metadata": {},
   "outputs": [],
   "source": [
    "# abusing getpass to ubfiscate a directory location\n",
    "# file_path = getpass.getpass(prompt='Enter full path to zarr file without quotes')"
   ]
  },
  {
   "cell_type": "code",
   "execution_count": null,
   "id": "165150de-b839-4dd6-a3d5-64162591a72a",
   "metadata": {},
   "outputs": [],
   "source": [
    "# tt_l7 = xarray.open_zarr(file_path) # ModuleNotFoundError: No module named 'dask' if dask not installed in env"
   ]
  },
  {
   "cell_type": "code",
   "execution_count": null,
   "id": "b9f335bd-b62e-4ad3-b9ed-e5944bdaf9c3",
   "metadata": {},
   "outputs": [],
   "source": [
    "# tt_l7"
   ]
  },
  {
   "cell_type": "code",
   "execution_count": null,
   "id": "faefa7bd-d234-4114-aada-bceb9f1faaf5",
   "metadata": {},
   "outputs": [],
   "source": [
    "# tt_l1 = xarray.open_zarr(\"/data/geomet/dev/afssymo/zarr-test/rdps_tt_l1.zarr\")"
   ]
  },
  {
   "cell_type": "code",
   "execution_count": null,
   "id": "c2509373-c5b1-417e-bfe6-29f623cc0bac",
   "metadata": {},
   "outputs": [],
   "source": [
    "# tt_l1"
   ]
  },
  {
   "cell_type": "code",
   "execution_count": null,
   "id": "243c08eb-5abd-4dde-abf8-e8ae94bc2e45",
   "metadata": {},
   "outputs": [],
   "source": []
  }
 ],
 "metadata": {
  "kernelspec": {
   "display_name": "Python 3 (ipykernel)",
   "language": "python",
   "name": "python3"
  }
 },
 "nbformat": 4,
 "nbformat_minor": 5
}
